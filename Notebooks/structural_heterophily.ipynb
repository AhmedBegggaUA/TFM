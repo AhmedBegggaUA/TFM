{
 "cells": [
  {
   "cell_type": "code",
   "execution_count": 1,
   "metadata": {},
   "outputs": [
    {
     "name": "stdout",
     "output_type": "stream",
     "text": [
      "Penn94(1)\n",
      "Data(x=[41554, 4814], edge_index=[2, 2724458], y=[41554], train_mask=[41554, 5], val_mask=[41554, 5], test_mask=[41554, 5])\n"
     ]
    }
   ],
   "source": [
    "import torch\n",
    "import warnings\n",
    "warnings.filterwarnings('ignore')\n",
    "from sklearn.cluster import SpectralClustering\n",
    "from sklearn.cluster import KMeans\n",
    "from torch_geometric.utils import to_dense_adj\n",
    "from torch_geometric.utils import to_networkx\n",
    "from torch_geometric.datasets import Planetoid, WebKB, WikipediaNetwork,Actor,LINKXDataset\n",
    "import networkx as nx\n",
    "import numpy as np\n",
    "np.random.seed(1234)\n",
    "def spectral_cluster(graph, num_clusters):\n",
    "    normalized_laplacian_matrix = nx.normalized_laplacian_matrix(graph).todense()\n",
    "    eigvals, eigvecs = np.linalg.eig(normalized_laplacian_matrix)\n",
    "    eigvals = np.real(eigvals)\n",
    "    eigvecs = np.real(eigvecs)\n",
    "    #print(eigvals)\n",
    "    #print(eigvecs)\n",
    "    indices = np.argsort(eigvals)[:num_clusters]\n",
    "    k_smallest_eigvecs = eigvecs[:, indices]\n",
    "    clustering = KMeans(n_clusters=num_clusters).fit(k_smallest_eigvecs)\n",
    "    cluster_assignments = clustering.labels_\n",
    "    return list(cluster_assignments)\n",
    "\n",
    "def structural_heterophily(data,num_classes=5):\n",
    "    G = to_networkx(data, to_undirected=True)    \n",
    "    # Get the largest connected component\n",
    "    Gcc = sorted(nx.connected_components(G), key=len, reverse=True)\n",
    "    G = G.subgraph(Gcc[0])\n",
    "    # data.y will contain the labels only of the largest connected component\n",
    "    selected_nodes = list(G.nodes)\n",
    "    data.y = data.y[selected_nodes]\n",
    "    laplacian = nx.normalized_laplacian_matrix(G)\n",
    "    laplacian = laplacian.todense()\n",
    "    # to tensor\n",
    "    laplacian = torch.tensor(laplacian,dtype=torch.float32)\n",
    "    data.y = torch.tensor(data.y.numpy(),dtype=torch.float32)\n",
    "    # Let's compute data.y^T @ L @ data.y\n",
    "    num = torch.matmul(torch.matmul(data.y,laplacian),data.y)\n",
    "    # Let's compute sc.labels_^T @ L @ sc.labels_\n",
    "    sc = spectral_cluster(G,num_classes)\n",
    "    sc = torch.tensor(sc,dtype=torch.float32)\n",
    "    den = torch.matmul(torch.matmul(sc,laplacian),sc)\n",
    "    return round((num/den).item(),3)\n",
    "dataset = WebKB(root='./', name='Cornell')\n",
    "#dataset = Planetoid(root='/tmp/Cora', name='Pubmed')\n",
    "#dataset = WikipediaNetwork(root='./',name = 'Squirrel')\n",
    "#dataset = Actor(root='./')\n",
    "\n",
    "print(dataset)\n",
    "print(dataset[0])\n",
    "data = dataset[0]\n",
    "\n",
    "print(structural_heterophily(data,num_classes=data.y.max().item()+1))"
   ]
  },
  {
   "attachments": {},
   "cell_type": "markdown",
   "metadata": {},
   "source": [
    "# Table with the results of the structure heterophily experiment\n",
    "|  | Cora | Citeseer | Pubmed | Actor | Chamaleon | Squirrel | Wisconsin  | Cornell | Texas | Penn94 |\n",
    "| --- | --- | --- | --- | --- | --- | --- | --- | --- | --- | --- |\n",
    "| SH |7.367 | 5.779 | 7.642 |209.586 | 8.307 | 20.629 | 6.908 |6.038 | 18.376 | 00.000 |"
   ]
  }
 ],
 "metadata": {
  "kernelspec": {
   "display_name": "tfm",
   "language": "python",
   "name": "python3"
  },
  "language_info": {
   "codemirror_mode": {
    "name": "ipython",
    "version": 3
   },
   "file_extension": ".py",
   "mimetype": "text/x-python",
   "name": "python",
   "nbconvert_exporter": "python",
   "pygments_lexer": "ipython3",
   "version": "3.8.13"
  },
  "orig_nbformat": 4
 },
 "nbformat": 4,
 "nbformat_minor": 2
}
